{
 "cells": [
  {
   "cell_type": "code",
   "execution_count": 331,
   "id": "2fbc2fc4",
   "metadata": {},
   "outputs": [],
   "source": [
    "import pandas as pd\n",
    "import matplotlib.pyplot as plt\n",
    "import seaborn as sns\n",
    "import numpy as np"
   ]
  },
  {
   "cell_type": "markdown",
   "id": "b403630b",
   "metadata": {},
   "source": [
    "Significado de las variables\n",
    "\n",
    "- D_* = Delinquency variables\n",
    "- S_* = Spend variables\n",
    "- P_* = Payment variables\n",
    "- B_* = Balance variables\n",
    "- R_* = Risk variables"
   ]
  },
  {
   "cell_type": "code",
   "execution_count": 286,
   "id": "30b2f589",
   "metadata": {
    "scrolled": false
   },
   "outputs": [
    {
     "data": {
      "text/html": [
       "<div>\n",
       "<style scoped>\n",
       "    .dataframe tbody tr th:only-of-type {\n",
       "        vertical-align: middle;\n",
       "    }\n",
       "\n",
       "    .dataframe tbody tr th {\n",
       "        vertical-align: top;\n",
       "    }\n",
       "\n",
       "    .dataframe thead th {\n",
       "        text-align: right;\n",
       "    }\n",
       "</style>\n",
       "<table border=\"1\" class=\"dataframe\">\n",
       "  <thead>\n",
       "    <tr style=\"text-align: right;\">\n",
       "      <th></th>\n",
       "      <th>customer_ID</th>\n",
       "      <th>S_2</th>\n",
       "      <th>P_2</th>\n",
       "      <th>D_39</th>\n",
       "      <th>B_1</th>\n",
       "      <th>B_2</th>\n",
       "      <th>R_1</th>\n",
       "      <th>S_3</th>\n",
       "      <th>D_41</th>\n",
       "      <th>B_3</th>\n",
       "      <th>...</th>\n",
       "      <th>D_137</th>\n",
       "      <th>D_138</th>\n",
       "      <th>D_139</th>\n",
       "      <th>D_140</th>\n",
       "      <th>D_141</th>\n",
       "      <th>D_142</th>\n",
       "      <th>D_143</th>\n",
       "      <th>D_144</th>\n",
       "      <th>D_145</th>\n",
       "      <th>target</th>\n",
       "    </tr>\n",
       "  </thead>\n",
       "  <tbody>\n",
       "    <tr>\n",
       "      <th>0</th>\n",
       "      <td>000adf2938f771f75a581b65107024eddeae70684778c0...</td>\n",
       "      <td>2017-04-25</td>\n",
       "      <td>0.885999</td>\n",
       "      <td>0.009377</td>\n",
       "      <td>0.008894</td>\n",
       "      <td>1.006219</td>\n",
       "      <td>0.008716</td>\n",
       "      <td>0.065198</td>\n",
       "      <td>0.001650</td>\n",
       "      <td>0.009946</td>\n",
       "      <td>...</td>\n",
       "      <td>NaN</td>\n",
       "      <td>NaN</td>\n",
       "      <td>0.001505</td>\n",
       "      <td>0.009169</td>\n",
       "      <td>0.009822</td>\n",
       "      <td>NaN</td>\n",
       "      <td>0.004713</td>\n",
       "      <td>0.002896</td>\n",
       "      <td>0.002524</td>\n",
       "      <td>0</td>\n",
       "    </tr>\n",
       "    <tr>\n",
       "      <th>1</th>\n",
       "      <td>001a152e1893ab8372e7c9627c9de2e024399f2660d5d8...</td>\n",
       "      <td>2017-11-10</td>\n",
       "      <td>0.750890</td>\n",
       "      <td>0.037378</td>\n",
       "      <td>0.045959</td>\n",
       "      <td>1.001278</td>\n",
       "      <td>0.000312</td>\n",
       "      <td>0.087636</td>\n",
       "      <td>0.004212</td>\n",
       "      <td>0.001730</td>\n",
       "      <td>...</td>\n",
       "      <td>NaN</td>\n",
       "      <td>NaN</td>\n",
       "      <td>0.006351</td>\n",
       "      <td>0.001419</td>\n",
       "      <td>0.004957</td>\n",
       "      <td>NaN</td>\n",
       "      <td>0.001577</td>\n",
       "      <td>0.004017</td>\n",
       "      <td>0.007144</td>\n",
       "      <td>0</td>\n",
       "    </tr>\n",
       "    <tr>\n",
       "      <th>2</th>\n",
       "      <td>001e2ceaf1421f1477c0de9ba1c9357b9d278f7b670ab7...</td>\n",
       "      <td>2018-03-26</td>\n",
       "      <td>0.607227</td>\n",
       "      <td>0.002678</td>\n",
       "      <td>0.001271</td>\n",
       "      <td>0.812964</td>\n",
       "      <td>0.005415</td>\n",
       "      <td>NaN</td>\n",
       "      <td>0.005049</td>\n",
       "      <td>0.006548</td>\n",
       "      <td>...</td>\n",
       "      <td>NaN</td>\n",
       "      <td>NaN</td>\n",
       "      <td>0.008643</td>\n",
       "      <td>0.007299</td>\n",
       "      <td>0.000205</td>\n",
       "      <td>NaN</td>\n",
       "      <td>0.006518</td>\n",
       "      <td>0.008823</td>\n",
       "      <td>0.002062</td>\n",
       "      <td>1</td>\n",
       "    </tr>\n",
       "    <tr>\n",
       "      <th>3</th>\n",
       "      <td>0034f7e366a41d2500643c7dd0faa6302ce944743ccdf5...</td>\n",
       "      <td>2018-01-07</td>\n",
       "      <td>0.775546</td>\n",
       "      <td>0.003486</td>\n",
       "      <td>0.234352</td>\n",
       "      <td>0.040793</td>\n",
       "      <td>0.256024</td>\n",
       "      <td>0.172966</td>\n",
       "      <td>0.000081</td>\n",
       "      <td>0.225639</td>\n",
       "      <td>...</td>\n",
       "      <td>NaN</td>\n",
       "      <td>NaN</td>\n",
       "      <td>1.002720</td>\n",
       "      <td>0.008143</td>\n",
       "      <td>0.995023</td>\n",
       "      <td>0.626496</td>\n",
       "      <td>1.000037</td>\n",
       "      <td>0.671750</td>\n",
       "      <td>0.188801</td>\n",
       "      <td>0</td>\n",
       "    </tr>\n",
       "    <tr>\n",
       "      <th>4</th>\n",
       "      <td>00394e07aa3f71174f8bedfd16d64f194c80ad9445e17f...</td>\n",
       "      <td>2017-04-27</td>\n",
       "      <td>0.358659</td>\n",
       "      <td>0.001814</td>\n",
       "      <td>0.028545</td>\n",
       "      <td>1.004951</td>\n",
       "      <td>0.009079</td>\n",
       "      <td>0.765318</td>\n",
       "      <td>0.003546</td>\n",
       "      <td>0.009843</td>\n",
       "      <td>...</td>\n",
       "      <td>NaN</td>\n",
       "      <td>NaN</td>\n",
       "      <td>0.002115</td>\n",
       "      <td>0.004143</td>\n",
       "      <td>0.007057</td>\n",
       "      <td>NaN</td>\n",
       "      <td>0.004255</td>\n",
       "      <td>0.001370</td>\n",
       "      <td>0.007717</td>\n",
       "      <td>1</td>\n",
       "    </tr>\n",
       "  </tbody>\n",
       "</table>\n",
       "<p>5 rows × 191 columns</p>\n",
       "</div>"
      ],
      "text/plain": [
       "                                         customer_ID         S_2       P_2  \\\n",
       "0  000adf2938f771f75a581b65107024eddeae70684778c0...  2017-04-25  0.885999   \n",
       "1  001a152e1893ab8372e7c9627c9de2e024399f2660d5d8...  2017-11-10  0.750890   \n",
       "2  001e2ceaf1421f1477c0de9ba1c9357b9d278f7b670ab7...  2018-03-26  0.607227   \n",
       "3  0034f7e366a41d2500643c7dd0faa6302ce944743ccdf5...  2018-01-07  0.775546   \n",
       "4  00394e07aa3f71174f8bedfd16d64f194c80ad9445e17f...  2017-04-27  0.358659   \n",
       "\n",
       "       D_39       B_1       B_2       R_1       S_3      D_41       B_3  ...  \\\n",
       "0  0.009377  0.008894  1.006219  0.008716  0.065198  0.001650  0.009946  ...   \n",
       "1  0.037378  0.045959  1.001278  0.000312  0.087636  0.004212  0.001730  ...   \n",
       "2  0.002678  0.001271  0.812964  0.005415       NaN  0.005049  0.006548  ...   \n",
       "3  0.003486  0.234352  0.040793  0.256024  0.172966  0.000081  0.225639  ...   \n",
       "4  0.001814  0.028545  1.004951  0.009079  0.765318  0.003546  0.009843  ...   \n",
       "\n",
       "   D_137  D_138     D_139     D_140     D_141     D_142     D_143     D_144  \\\n",
       "0    NaN    NaN  0.001505  0.009169  0.009822       NaN  0.004713  0.002896   \n",
       "1    NaN    NaN  0.006351  0.001419  0.004957       NaN  0.001577  0.004017   \n",
       "2    NaN    NaN  0.008643  0.007299  0.000205       NaN  0.006518  0.008823   \n",
       "3    NaN    NaN  1.002720  0.008143  0.995023  0.626496  1.000037  0.671750   \n",
       "4    NaN    NaN  0.002115  0.004143  0.007057       NaN  0.004255  0.001370   \n",
       "\n",
       "      D_145  target  \n",
       "0  0.002524       0  \n",
       "1  0.007144       0  \n",
       "2  0.002062       1  \n",
       "3  0.188801       0  \n",
       "4  0.007717       1  \n",
       "\n",
       "[5 rows x 191 columns]"
      ]
     },
     "execution_count": 286,
     "metadata": {},
     "output_type": "execute_result"
    }
   ],
   "source": [
    "df = pd.read_csv('data_full.txt', sep='\\t')\n",
    "df.head()"
   ]
  },
  {
   "cell_type": "markdown",
   "id": "546827c9",
   "metadata": {},
   "source": [
    "---"
   ]
  },
  {
   "cell_type": "markdown",
   "id": "be4bc400",
   "metadata": {},
   "source": [
    "#### Miremos como está distribuido el DF, para ver cuantas variables categóricas tiene y que otros datos se pueden rescatar.\n",
    "Buscamos que columnas son categóricas (Object) y procedemos a llenar sus campos faltantes con el dato anterior, según el DF estas deberían de ser:\n",
    "**['B_30', 'B_38', 'D_114', 'D_116', 'D_117', 'D_120', 'D_126', 'D_63', 'D_64', 'D_66', 'D_68']**\n",
    "pero solo dos de ellas no son numéricas, así que las dejaremos igual y solo aplicaremos la transformación a las de tipo objeto\n",
    "Como las faltantes pertenecen al grupo **D_** procedemos a completarlas con la **moda**."
   ]
  },
  {
   "cell_type": "markdown",
   "id": "9b47d4d3",
   "metadata": {},
   "source": [
    "  "
   ]
  },
  {
   "cell_type": "code",
   "execution_count": 287,
   "id": "5f41c41f",
   "metadata": {},
   "outputs": [
    {
     "name": "stdout",
     "output_type": "stream",
     "text": [
      "<class 'pandas.core.frame.DataFrame'>\n",
      "RangeIndex: 6041 entries, 0 to 6040\n",
      "Columns: 191 entries, customer_ID to target\n",
      "dtypes: float64(185), int64(2), object(4)\n",
      "memory usage: 8.8+ MB\n"
     ]
    }
   ],
   "source": [
    "df.info()"
   ]
  },
  {
   "cell_type": "code",
   "execution_count": 288,
   "id": "7ac2e420",
   "metadata": {},
   "outputs": [
    {
     "name": "stdout",
     "output_type": "stream",
     "text": [
      "['customer_ID', 'S_2', 'D_63', 'D_64']\n"
     ]
    }
   ],
   "source": [
    "column =  df.select_dtypes(include=['object']).columns.to_list()\n",
    "sub_df = df[column]\n",
    "print(column)"
   ]
  },
  {
   "cell_type": "code",
   "execution_count": 289,
   "id": "f3d40d00",
   "metadata": {},
   "outputs": [
    {
     "data": {
      "text/plain": [
       "customer_ID      0\n",
       "S_2              0\n",
       "D_63             0\n",
       "D_64           232\n",
       "dtype: int64"
      ]
     },
     "execution_count": 289,
     "metadata": {},
     "output_type": "execute_result"
    }
   ],
   "source": [
    "sub_df.isna().sum()"
   ]
  },
  {
   "cell_type": "code",
   "execution_count": 290,
   "id": "81a22fc8",
   "metadata": {},
   "outputs": [
    {
     "data": {
      "text/plain": [
       "'O'"
      ]
     },
     "execution_count": 290,
     "metadata": {},
     "output_type": "execute_result"
    }
   ],
   "source": [
    "df['D_64'].mode()[0]"
   ]
  },
  {
   "cell_type": "code",
   "execution_count": 291,
   "id": "c49da07e",
   "metadata": {},
   "outputs": [
    {
     "data": {
      "text/plain": [
       "customer_ID    0\n",
       "S_2            0\n",
       "D_63           0\n",
       "D_64           0\n",
       "dtype: int64"
      ]
     },
     "execution_count": 291,
     "metadata": {},
     "output_type": "execute_result"
    }
   ],
   "source": [
    "df['D_64'].fillna(df['D_64'].mode()[0], inplace=True)\n",
    "sub_df = df[column]\n",
    "sub_df.isna().sum()"
   ]
  },
  {
   "cell_type": "markdown",
   "id": "881064c0",
   "metadata": {},
   "source": [
    "---\n",
    "De las 4 columnas S_2 es una fecha, por lo tanto, no se tiene en cuenta, lo vamos a transformar como tal y customer_ID  es el ID único, en consecuencia tampoco, solo nos queda D_63 y D_64 viendo un poco más su contenido nos queda que son  Categóricas Nominales como resultado utilizaremos One-Hot Encoding para hacer su transformación, renombraremos el D_64-1 por D_64_I por comodidad"
   ]
  },
  {
   "cell_type": "markdown",
   "id": "104ca592",
   "metadata": {},
   "source": [
    "  "
   ]
  },
  {
   "cell_type": "code",
   "execution_count": 292,
   "id": "ef355043",
   "metadata": {},
   "outputs": [],
   "source": [
    "df['S_2'] = pd.to_datetime(df['S_2'])"
   ]
  },
  {
   "cell_type": "code",
   "execution_count": 293,
   "id": "20cabaf3",
   "metadata": {},
   "outputs": [
    {
     "data": {
      "text/plain": [
       "CO    4496\n",
       "CR     999\n",
       "CL     492\n",
       "XZ      35\n",
       "XM      12\n",
       "XL       7\n",
       "Name: D_63, dtype: int64"
      ]
     },
     "execution_count": 293,
     "metadata": {},
     "output_type": "execute_result"
    }
   ],
   "source": [
    "df['D_63'].value_counts()"
   ]
  },
  {
   "cell_type": "code",
   "execution_count": 294,
   "id": "132d89b4",
   "metadata": {},
   "outputs": [
    {
     "data": {
      "text/plain": [
       "O     3422\n",
       "U     1694\n",
       "R      889\n",
       "-1      36\n",
       "Name: D_64, dtype: int64"
      ]
     },
     "execution_count": 294,
     "metadata": {},
     "output_type": "execute_result"
    }
   ],
   "source": [
    "df['D_64'].value_counts()"
   ]
  },
  {
   "cell_type": "code",
   "execution_count": 295,
   "id": "5e5b26be",
   "metadata": {},
   "outputs": [],
   "source": [
    "df = pd.get_dummies(df, columns=['D_63', 'D_64'])"
   ]
  },
  {
   "cell_type": "code",
   "execution_count": 296,
   "id": "6977f6dd",
   "metadata": {},
   "outputs": [],
   "source": [
    "df.rename(columns={'D_64_-1': 'D_64_I'}, inplace=True)"
   ]
  },
  {
   "cell_type": "code",
   "execution_count": 297,
   "id": "e8386698",
   "metadata": {
    "scrolled": false
   },
   "outputs": [
    {
     "data": {
      "text/html": [
       "<div>\n",
       "<style scoped>\n",
       "    .dataframe tbody tr th:only-of-type {\n",
       "        vertical-align: middle;\n",
       "    }\n",
       "\n",
       "    .dataframe tbody tr th {\n",
       "        vertical-align: top;\n",
       "    }\n",
       "\n",
       "    .dataframe thead th {\n",
       "        text-align: right;\n",
       "    }\n",
       "</style>\n",
       "<table border=\"1\" class=\"dataframe\">\n",
       "  <thead>\n",
       "    <tr style=\"text-align: right;\">\n",
       "      <th></th>\n",
       "      <th>D_63_CO</th>\n",
       "      <th>D_63_CR</th>\n",
       "      <th>D_63_CL</th>\n",
       "      <th>D_63_XZ</th>\n",
       "      <th>D_63_XZ</th>\n",
       "      <th>D_63_XM</th>\n",
       "      <th>D_63_XL</th>\n",
       "      <th>D_64_O</th>\n",
       "      <th>D_64_U</th>\n",
       "      <th>D_64_R</th>\n",
       "      <th>D_64_I</th>\n",
       "      <th>target</th>\n",
       "    </tr>\n",
       "  </thead>\n",
       "  <tbody>\n",
       "    <tr>\n",
       "      <th>0</th>\n",
       "      <td>1</td>\n",
       "      <td>0</td>\n",
       "      <td>0</td>\n",
       "      <td>0</td>\n",
       "      <td>0</td>\n",
       "      <td>0</td>\n",
       "      <td>0</td>\n",
       "      <td>1</td>\n",
       "      <td>0</td>\n",
       "      <td>0</td>\n",
       "      <td>0</td>\n",
       "      <td>0</td>\n",
       "    </tr>\n",
       "    <tr>\n",
       "      <th>1</th>\n",
       "      <td>1</td>\n",
       "      <td>0</td>\n",
       "      <td>0</td>\n",
       "      <td>0</td>\n",
       "      <td>0</td>\n",
       "      <td>0</td>\n",
       "      <td>0</td>\n",
       "      <td>0</td>\n",
       "      <td>1</td>\n",
       "      <td>0</td>\n",
       "      <td>0</td>\n",
       "      <td>0</td>\n",
       "    </tr>\n",
       "    <tr>\n",
       "      <th>2</th>\n",
       "      <td>1</td>\n",
       "      <td>0</td>\n",
       "      <td>0</td>\n",
       "      <td>0</td>\n",
       "      <td>0</td>\n",
       "      <td>0</td>\n",
       "      <td>0</td>\n",
       "      <td>1</td>\n",
       "      <td>0</td>\n",
       "      <td>0</td>\n",
       "      <td>0</td>\n",
       "      <td>1</td>\n",
       "    </tr>\n",
       "    <tr>\n",
       "      <th>3</th>\n",
       "      <td>1</td>\n",
       "      <td>0</td>\n",
       "      <td>0</td>\n",
       "      <td>0</td>\n",
       "      <td>0</td>\n",
       "      <td>0</td>\n",
       "      <td>0</td>\n",
       "      <td>1</td>\n",
       "      <td>0</td>\n",
       "      <td>0</td>\n",
       "      <td>0</td>\n",
       "      <td>0</td>\n",
       "    </tr>\n",
       "    <tr>\n",
       "      <th>4</th>\n",
       "      <td>0</td>\n",
       "      <td>0</td>\n",
       "      <td>1</td>\n",
       "      <td>0</td>\n",
       "      <td>0</td>\n",
       "      <td>0</td>\n",
       "      <td>0</td>\n",
       "      <td>1</td>\n",
       "      <td>0</td>\n",
       "      <td>0</td>\n",
       "      <td>0</td>\n",
       "      <td>1</td>\n",
       "    </tr>\n",
       "    <tr>\n",
       "      <th>...</th>\n",
       "      <td>...</td>\n",
       "      <td>...</td>\n",
       "      <td>...</td>\n",
       "      <td>...</td>\n",
       "      <td>...</td>\n",
       "      <td>...</td>\n",
       "      <td>...</td>\n",
       "      <td>...</td>\n",
       "      <td>...</td>\n",
       "      <td>...</td>\n",
       "      <td>...</td>\n",
       "      <td>...</td>\n",
       "    </tr>\n",
       "    <tr>\n",
       "      <th>6036</th>\n",
       "      <td>1</td>\n",
       "      <td>0</td>\n",
       "      <td>0</td>\n",
       "      <td>0</td>\n",
       "      <td>0</td>\n",
       "      <td>0</td>\n",
       "      <td>0</td>\n",
       "      <td>0</td>\n",
       "      <td>1</td>\n",
       "      <td>0</td>\n",
       "      <td>0</td>\n",
       "      <td>0</td>\n",
       "    </tr>\n",
       "    <tr>\n",
       "      <th>6037</th>\n",
       "      <td>1</td>\n",
       "      <td>0</td>\n",
       "      <td>0</td>\n",
       "      <td>0</td>\n",
       "      <td>0</td>\n",
       "      <td>0</td>\n",
       "      <td>0</td>\n",
       "      <td>0</td>\n",
       "      <td>1</td>\n",
       "      <td>0</td>\n",
       "      <td>0</td>\n",
       "      <td>1</td>\n",
       "    </tr>\n",
       "    <tr>\n",
       "      <th>6038</th>\n",
       "      <td>1</td>\n",
       "      <td>0</td>\n",
       "      <td>0</td>\n",
       "      <td>0</td>\n",
       "      <td>0</td>\n",
       "      <td>0</td>\n",
       "      <td>0</td>\n",
       "      <td>0</td>\n",
       "      <td>0</td>\n",
       "      <td>1</td>\n",
       "      <td>0</td>\n",
       "      <td>1</td>\n",
       "    </tr>\n",
       "    <tr>\n",
       "      <th>6039</th>\n",
       "      <td>1</td>\n",
       "      <td>0</td>\n",
       "      <td>0</td>\n",
       "      <td>0</td>\n",
       "      <td>0</td>\n",
       "      <td>0</td>\n",
       "      <td>0</td>\n",
       "      <td>0</td>\n",
       "      <td>1</td>\n",
       "      <td>0</td>\n",
       "      <td>0</td>\n",
       "      <td>0</td>\n",
       "    </tr>\n",
       "    <tr>\n",
       "      <th>6040</th>\n",
       "      <td>0</td>\n",
       "      <td>1</td>\n",
       "      <td>0</td>\n",
       "      <td>0</td>\n",
       "      <td>0</td>\n",
       "      <td>0</td>\n",
       "      <td>0</td>\n",
       "      <td>1</td>\n",
       "      <td>0</td>\n",
       "      <td>0</td>\n",
       "      <td>0</td>\n",
       "      <td>0</td>\n",
       "    </tr>\n",
       "  </tbody>\n",
       "</table>\n",
       "<p>6041 rows × 12 columns</p>\n",
       "</div>"
      ],
      "text/plain": [
       "      D_63_CO  D_63_CR  D_63_CL  D_63_XZ  D_63_XZ  D_63_XM  D_63_XL  D_64_O  \\\n",
       "0           1        0        0        0        0        0        0       1   \n",
       "1           1        0        0        0        0        0        0       0   \n",
       "2           1        0        0        0        0        0        0       1   \n",
       "3           1        0        0        0        0        0        0       1   \n",
       "4           0        0        1        0        0        0        0       1   \n",
       "...       ...      ...      ...      ...      ...      ...      ...     ...   \n",
       "6036        1        0        0        0        0        0        0       0   \n",
       "6037        1        0        0        0        0        0        0       0   \n",
       "6038        1        0        0        0        0        0        0       0   \n",
       "6039        1        0        0        0        0        0        0       0   \n",
       "6040        0        1        0        0        0        0        0       1   \n",
       "\n",
       "      D_64_U  D_64_R  D_64_I  target  \n",
       "0          0       0       0       0  \n",
       "1          1       0       0       0  \n",
       "2          0       0       0       1  \n",
       "3          0       0       0       0  \n",
       "4          0       0       0       1  \n",
       "...      ...     ...     ...     ...  \n",
       "6036       1       0       0       0  \n",
       "6037       1       0       0       1  \n",
       "6038       0       1       0       1  \n",
       "6039       1       0       0       0  \n",
       "6040       0       0       0       0  \n",
       "\n",
       "[6041 rows x 12 columns]"
      ]
     },
     "execution_count": 297,
     "metadata": {},
     "output_type": "execute_result"
    }
   ],
   "source": [
    "df[['D_63_CO', 'D_63_CR', 'D_63_CL', 'D_63_XZ', 'D_63_XZ', 'D_63_XM', 'D_63_XL', 'D_64_O', 'D_64_U', 'D_64_R',\n",
    "    'D_64_I', 'target']]"
   ]
  },
  {
   "cell_type": "code",
   "execution_count": 371,
   "id": "7f0ac8f5",
   "metadata": {},
   "outputs": [],
   "source": [
    "def completar_na(sub_df):\n",
    "    for colum in sub_df.columns:\n",
    "        df[colum].fillna(df[colum].mode()[0], inplace=True)"
   ]
  },
  {
   "cell_type": "markdown",
   "id": "78db8f85",
   "metadata": {},
   "source": [
    "---\n",
    "Prosigamos con el resto de categóricas con la **moda**.\n",
    "**['B_30', 'B_38', 'D_114', 'D_116', 'D_117', 'D_120', 'D_126', 'D_66', 'D_68']** \n",
    "Dado que se presentan valores atípicos "
   ]
  },
  {
   "cell_type": "markdown",
   "id": "a41b4328",
   "metadata": {},
   "source": [
    "  "
   ]
  },
  {
   "cell_type": "code",
   "execution_count": 298,
   "id": "0ba06c9e",
   "metadata": {},
   "outputs": [],
   "source": [
    "category = ['B_30', 'B_38', 'D_114', 'D_116', 'D_117', 'D_120', 'D_126', 'D_66', 'D_68']"
   ]
  },
  {
   "cell_type": "code",
   "execution_count": 301,
   "id": "9eec6c8e",
   "metadata": {},
   "outputs": [
    {
     "data": {
      "image/png": "[encoded data removed]",
      "text/plain": [
       "<Figure size 720x432 with 1 Axes>"
      ]
     },
     "metadata": {
      "needs_background": "light"
     },
     "output_type": "display_data"
    }
   ],
   "source": [
    "columnas_C = df[category]\n",
    "\n",
    "plt.figure(figsize=(10, 6))\n",
    "sns.boxplot(data=columnas_C, orient='v')\n",
    "plt.title('Gráfico de Caja para Columnas Categoricas')\n",
    "plt.ylabel('Valores')\n",
    "plt.xlabel('columna')\n",
    "plt.show()"
   ]
  },
  {
   "cell_type": "code",
   "execution_count": 302,
   "id": "c92ae70a",
   "metadata": {
    "scrolled": true
   },
   "outputs": [
    {
     "data": {
      "text/plain": [
       "B_30        3\n",
       "B_38        3\n",
       "D_114     183\n",
       "D_116     183\n",
       "D_117     183\n",
       "D_120     183\n",
       "D_126     115\n",
       "D_66     5383\n",
       "D_68      228\n",
       "dtype: int64"
      ]
     },
     "execution_count": 302,
     "metadata": {},
     "output_type": "execute_result"
    }
   ],
   "source": [
    "sub_df = df[category]\n",
    "sub_df.isna().sum()"
   ]
  },
  {
   "cell_type": "code",
   "execution_count": 303,
   "id": "45d29aa2",
   "metadata": {
    "scrolled": true
   },
   "outputs": [
    {
     "data": {
      "text/plain": [
       "B_30     0\n",
       "B_38     0\n",
       "D_114    0\n",
       "D_116    0\n",
       "D_117    0\n",
       "D_120    0\n",
       "D_126    0\n",
       "D_66     0\n",
       "D_68     0\n",
       "dtype: int64"
      ]
     },
     "execution_count": 303,
     "metadata": {},
     "output_type": "execute_result"
    }
   ],
   "source": [
    "completar_na(sub_df)\n",
    "\n",
    "sub_df = df[category]\n",
    "sub_df.isna().sum()"
   ]
  },
  {
   "cell_type": "markdown",
   "id": "e42fb323",
   "metadata": {},
   "source": [
    "---\n",
    "Ahora analicemos el resto de los grupos faltantes:\n",
    "\n",
    "### S_*"
   ]
  },
  {
   "cell_type": "code",
   "execution_count": 310,
   "id": "87faf81b",
   "metadata": {},
   "outputs": [
    {
     "data": {
      "text/plain": [
       "S_3     1167\n",
       "S_7     1167\n",
       "S_9     3226\n",
       "S_22      28\n",
       "S_23       1\n",
       "S_24      27\n",
       "S_25      16\n",
       "S_26       1\n",
       "S_27    1579\n",
       "dtype: int64"
      ]
     },
     "execution_count": 310,
     "metadata": {},
     "output_type": "execute_result"
    }
   ],
   "source": [
    "columnas_S = df.filter(like='S_').drop('S_2', axis=1)\n",
    "\n",
    "sub_df = df[columnas_S.columns].loc[:, df[columnas_S.columns].isna().any()]\n",
    "sub_df.isna().sum()"
   ]
  },
  {
   "cell_type": "code",
   "execution_count": 356,
   "id": "5ab09ba9",
   "metadata": {
    "scrolled": false
   },
   "outputs": [
    {
     "data": {
      "text/plain": [
       "<Figure size 720x432 with 0 Axes>"
      ]
     },
     "metadata": {},
     "output_type": "display_data"
    },
    {
     "data": {
      "image/png": "[encoded data removed]",
      "text/plain": [
       "<Figure size 360x360 with 1 Axes>"
      ]
     },
     "metadata": {
      "needs_background": "light"
     },
     "output_type": "display_data"
    }
   ],
   "source": [
    "plt.figure(figsize=(10, 6))  # Ajusta el tamaño de la figura\n",
    "\n",
    "sns.catplot(data = sub_df)\n",
    "plt.title('Gráfico de barras para la Columnas S_*')\n",
    "plt.ylabel('Valores')\n",
    "plt.xlabel('Columnas')\n",
    "plt.xticks(rotation=45)  # Rota los nombres de las columnas si es necesario\n",
    "plt.show()"
   ]
  },
  {
   "cell_type": "code",
   "execution_count": 361,
   "id": "ec0ae283",
   "metadata": {},
   "outputs": [],
   "source": [
    "completar_na(sub_df)"
   ]
  },
  {
   "cell_type": "markdown",
   "id": "47bfc5b7",
   "metadata": {},
   "source": [
    "### D_*"
   ]
  },
  {
   "cell_type": "code",
   "execution_count": 359,
   "id": "e3c0ee4e",
   "metadata": {},
   "outputs": [
    {
     "data": {
      "text/plain": [
       "D_41        3\n",
       "D_42     5164\n",
       "D_43     1811\n",
       "D_44      315\n",
       "D_45        3\n",
       "         ... \n",
       "D_141     103\n",
       "D_142    5007\n",
       "D_143     103\n",
       "D_144      41\n",
       "D_145     103\n",
       "Length: 73, dtype: int64"
      ]
     },
     "execution_count": 359,
     "metadata": {},
     "output_type": "execute_result"
    }
   ],
   "source": [
    "columnas_D = df.filter(like='D_')\n",
    "\n",
    "sub_df = df[columnas_D.columns].loc[:, df[columnas_D.columns].isna().any()]\n",
    "sub_df.isna().sum()"
   ]
  },
  {
   "cell_type": "code",
   "execution_count": 360,
   "id": "259634ba",
   "metadata": {},
   "outputs": [
    {
     "data": {
      "image/png": "[encoded data removed]",
      "text/plain": [
       "<Figure size 2880x1080 with 1 Axes>"
      ]
     },
     "metadata": {
      "needs_background": "light"
     },
     "output_type": "display_data"
    }
   ],
   "source": [
    "plt.figure(figsize=(40, 15))  # Ajusta el tamaño de la figura\n",
    "sns.barplot(data = sub_df)\n",
    "plt.title('Gráfico de barras para la Columnas D_*')\n",
    "plt.ylabel('Valores')\n",
    "plt.xlabel('Columnas')\n",
    "plt.xticks(rotation=45)  # Rota los nombres de las columnas si es necesario\n",
    "plt.show()"
   ]
  },
  {
   "cell_type": "code",
   "execution_count": 362,
   "id": "db94b362",
   "metadata": {},
   "outputs": [],
   "source": [
    "completar_na(sub_df)"
   ]
  },
  {
   "cell_type": "markdown",
   "id": "e1aae2fa",
   "metadata": {},
   "source": [
    "### P_*"
   ]
  },
  {
   "cell_type": "code",
   "execution_count": 364,
   "id": "5d185825",
   "metadata": {},
   "outputs": [
    {
     "data": {
      "text/plain": [
       "P_2     50\n",
       "P_3    307\n",
       "dtype: int64"
      ]
     },
     "execution_count": 364,
     "metadata": {},
     "output_type": "execute_result"
    }
   ],
   "source": [
    "columnas_P = df.filter(like='P_')\n",
    "\n",
    "sub_df = df[columnas_P.columns].loc[:, df[columnas_P.columns].isna().any()]\n",
    "sub_df.isna().sum()"
   ]
  },
  {
   "cell_type": "code",
   "execution_count": 369,
   "id": "8c1f0ce4",
   "metadata": {},
   "outputs": [
    {
     "data": {
      "image/png": "[encoded data removed]",
      "text/plain": [
       "<Figure size 1440x720 with 1 Axes>"
      ]
     },
     "metadata": {
      "needs_background": "light"
     },
     "output_type": "display_data"
    }
   ],
   "source": [
    "plt.figure(figsize=(20, 10))  # Ajusta el tamaño de la figura\n",
    "sns.boxplot(data = sub_df)\n",
    "plt.title('Gráfico de barras para la Columnas P_*')\n",
    "plt.ylabel('Valores')\n",
    "plt.xlabel('Columnas')\n",
    "plt.xticks(rotation=45)  # Rota los nombres de las columnas si es necesario\n",
    "plt.show()"
   ]
  },
  {
   "cell_type": "code",
   "execution_count": 372,
   "id": "c3ea170d",
   "metadata": {},
   "outputs": [],
   "source": [
    "completar_na(sub_df)"
   ]
  },
  {
   "cell_type": "markdown",
   "id": "cdf26d0f",
   "metadata": {},
   "source": [
    "### B_*"
   ]
  },
  {
   "cell_type": "code",
   "execution_count": 373,
   "id": "b8ef912f",
   "metadata": {},
   "outputs": [
    {
     "data": {
      "text/plain": [
       "B_2        3\n",
       "B_3        3\n",
       "B_8       32\n",
       "B_13      35\n",
       "B_15      10\n",
       "B_16       3\n",
       "B_17    3526\n",
       "B_19       3\n",
       "B_20       3\n",
       "B_22       3\n",
       "B_25      10\n",
       "B_26       3\n",
       "B_27       3\n",
       "B_29    5623\n",
       "B_33       3\n",
       "B_39    6009\n",
       "B_41       1\n",
       "B_42    5960\n",
       "dtype: int64"
      ]
     },
     "execution_count": 373,
     "metadata": {},
     "output_type": "execute_result"
    }
   ],
   "source": [
    "columnas_B = df.filter(like='B_')\n",
    "\n",
    "sub_df = df[columnas_B.columns].loc[:, df[columnas_B.columns].isna().any()]\n",
    "sub_df.isna().sum()"
   ]
  },
  {
   "cell_type": "code",
   "execution_count": 376,
   "id": "572ade17",
   "metadata": {},
   "outputs": [
    {
     "data": {
      "image/png": "[encoded data removed]",
      "text/plain": [
       "<Figure size 1440x720 with 1 Axes>"
      ]
     },
     "metadata": {
      "needs_background": "light"
     },
     "output_type": "display_data"
    }
   ],
   "source": [
    "plt.figure(figsize=(20, 10))  # Ajusta el tamaño de la figura\n",
    "sns.barplot(data = sub_df)\n",
    "plt.title('Gráfico de barras para la Columnas B_*')\n",
    "plt.ylabel('Valores')\n",
    "plt.xlabel('Columnas')\n",
    "plt.xticks(rotation=45)  # Rota los nombres de las columnas si es necesario\n",
    "plt.show()"
   ]
  },
  {
   "cell_type": "code",
   "execution_count": 377,
   "id": "30643706",
   "metadata": {},
   "outputs": [],
   "source": [
    "completar_na(sub_df)"
   ]
  },
  {
   "cell_type": "markdown",
   "id": "15c0deb1",
   "metadata": {},
   "source": [
    "### R_*"
   ]
  },
  {
   "cell_type": "code",
   "execution_count": 378,
   "id": "7cb61a8c",
   "metadata": {},
   "outputs": [
    {
     "data": {
      "text/plain": [
       "R_9     5720\n",
       "R_26    5402\n",
       "R_27     149\n",
       "dtype: int64"
      ]
     },
     "execution_count": 378,
     "metadata": {},
     "output_type": "execute_result"
    }
   ],
   "source": [
    "columnas_R = df.filter(like='R_')\n",
    "\n",
    "sub_df = df[columnas_R.columns].loc[:, df[columnas_R.columns].isna().any()]\n",
    "sub_df.isna().sum()"
   ]
  },
  {
   "cell_type": "code",
   "execution_count": 381,
   "id": "7e407b04",
   "metadata": {},
   "outputs": [
    {
     "data": {
      "image/png": "[encoded data removed]",
      "text/plain": [
       "<Figure size 1440x720 with 1 Axes>"
      ]
     },
     "metadata": {
      "needs_background": "light"
     },
     "output_type": "display_data"
    }
   ],
   "source": [
    "plt.figure(figsize=(20, 10))  # Ajusta el tamaño de la figura\n",
    "sns.boxplot(data = sub_df)\n",
    "plt.title('Gráfico de barras para la Columnas R_*')\n",
    "plt.ylabel('Valores')\n",
    "plt.xlabel('Columnas')\n",
    "plt.xticks(rotation=45)  # Rota los nombres de las columnas si es necesario\n",
    "plt.show()"
   ]
  },
  {
   "cell_type": "code",
   "execution_count": 382,
   "id": "3deba197",
   "metadata": {},
   "outputs": [],
   "source": [
    "completar_na(sub_df)"
   ]
  },
  {
   "cell_type": "code",
   "execution_count": 387,
   "id": "2729213c",
   "metadata": {},
   "outputs": [
    {
     "name": "stdout",
     "output_type": "stream",
     "text": [
      "Informacion faltate en el DF: 0\n"
     ]
    }
   ],
   "source": [
    "print(f'Informacion faltate en el DF: {df.isna().sum().sum()}')"
   ]
  }
 ],
 "metadata": {
  "kernelspec": {
   "display_name": "Python 3 (ipykernel)",
   "language": "python",
   "name": "python3"
  },
  "language_info": {
   "codemirror_mode": {
    "name": "ipython",
    "version": 3
   },
   "file_extension": ".py",
   "mimetype": "text/x-python",
   "name": "python",
   "nbconvert_exporter": "python",
   "pygments_lexer": "ipython3",
   "version": "3.9.12"
  }
 },
 "nbformat": 4,
 "nbformat_minor": 5
}
