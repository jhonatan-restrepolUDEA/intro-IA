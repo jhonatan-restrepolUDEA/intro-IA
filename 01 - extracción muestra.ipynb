{
 "cells": [
  {
   "cell_type": "code",
   "execution_count": 1,
   "id": "dfc7672b",
   "metadata": {},
   "outputs": [],
   "source": [
    "import pandas as pd\n",
    "from pyspark.sql import SparkSession"
   ]
  },
  {
   "cell_type": "markdown",
   "id": "5454a1b4",
   "metadata": {},
   "source": [
    "Como el archivo es muy grande utilizamos spark para poder manejarlo"
   ]
  },
  {
   "cell_type": "code",
   "execution_count": 2,
   "id": "4ff44a98",
   "metadata": {},
   "outputs": [],
   "source": [
    "spark = SparkSession.builder.getOrCreate()"
   ]
  },
  {
   "cell_type": "code",
   "execution_count": 26,
   "id": "c00f8af4",
   "metadata": {},
   "outputs": [],
   "source": [
    "data = spark.read.csv('file:///E:/data/amex-default-prediction/train_data.csv', header=True)\n",
    "data_label = spark.read.csv('file:///E:/data/amex-default-prediction/train_labels.csv', header=True)"
   ]
  },
  {
   "cell_type": "markdown",
   "id": "4d7abdb8",
   "metadata": {},
   "source": [
    "Leemos los archivos, el primero contiene toda la información, el segundo los resultados y procedemos a mirar qué columnas tienen en común para hacer una unión por el campo en común."
   ]
  },
  {
   "cell_type": "code",
   "execution_count": 28,
   "id": "06b5f764",
   "metadata": {},
   "outputs": [
    {
     "data": {
      "text/plain": [
       "['customer_ID',\n",
       " 'S_2',\n",
       " 'P_2',\n",
       " 'D_39',\n",
       " 'B_1',\n",
       " 'B_2',\n",
       " 'R_1',\n",
       " 'S_3',\n",
       " 'D_41',\n",
       " 'B_3',\n",
       " 'D_42',\n",
       " 'D_43',\n",
       " 'D_44',\n",
       " 'B_4',\n",
       " 'D_45',\n",
       " 'B_5',\n",
       " 'R_2',\n",
       " 'D_46',\n",
       " 'D_47',\n",
       " 'D_48',\n",
       " 'D_49',\n",
       " 'B_6',\n",
       " 'B_7',\n",
       " 'B_8',\n",
       " 'D_50',\n",
       " 'D_51',\n",
       " 'B_9',\n",
       " 'R_3',\n",
       " 'D_52',\n",
       " 'P_3',\n",
       " 'B_10',\n",
       " 'D_53',\n",
       " 'S_5',\n",
       " 'B_11',\n",
       " 'S_6',\n",
       " 'D_54',\n",
       " 'R_4',\n",
       " 'S_7',\n",
       " 'B_12',\n",
       " 'S_8',\n",
       " 'D_55',\n",
       " 'D_56',\n",
       " 'B_13',\n",
       " 'R_5',\n",
       " 'D_58',\n",
       " 'S_9',\n",
       " 'B_14',\n",
       " 'D_59',\n",
       " 'D_60',\n",
       " 'D_61',\n",
       " 'B_15',\n",
       " 'S_11',\n",
       " 'D_62',\n",
       " 'D_63',\n",
       " 'D_64',\n",
       " 'D_65',\n",
       " 'B_16',\n",
       " 'B_17',\n",
       " 'B_18',\n",
       " 'B_19',\n",
       " 'D_66',\n",
       " 'B_20',\n",
       " 'D_68',\n",
       " 'S_12',\n",
       " 'R_6',\n",
       " 'S_13',\n",
       " 'B_21',\n",
       " 'D_69',\n",
       " 'B_22',\n",
       " 'D_70',\n",
       " 'D_71',\n",
       " 'D_72',\n",
       " 'S_15',\n",
       " 'B_23',\n",
       " 'D_73',\n",
       " 'P_4',\n",
       " 'D_74',\n",
       " 'D_75',\n",
       " 'D_76',\n",
       " 'B_24',\n",
       " 'R_7',\n",
       " 'D_77',\n",
       " 'B_25',\n",
       " 'B_26',\n",
       " 'D_78',\n",
       " 'D_79',\n",
       " 'R_8',\n",
       " 'R_9',\n",
       " 'S_16',\n",
       " 'D_80',\n",
       " 'R_10',\n",
       " 'R_11',\n",
       " 'B_27',\n",
       " 'D_81',\n",
       " 'D_82',\n",
       " 'S_17',\n",
       " 'R_12',\n",
       " 'B_28',\n",
       " 'R_13',\n",
       " 'D_83',\n",
       " 'R_14',\n",
       " 'R_15',\n",
       " 'D_84',\n",
       " 'R_16',\n",
       " 'B_29',\n",
       " 'B_30',\n",
       " 'S_18',\n",
       " 'D_86',\n",
       " 'D_87',\n",
       " 'R_17',\n",
       " 'R_18',\n",
       " 'D_88',\n",
       " 'B_31',\n",
       " 'S_19',\n",
       " 'R_19',\n",
       " 'B_32',\n",
       " 'S_20',\n",
       " 'R_20',\n",
       " 'R_21',\n",
       " 'B_33',\n",
       " 'D_89',\n",
       " 'R_22',\n",
       " 'R_23',\n",
       " 'D_91',\n",
       " 'D_92',\n",
       " 'D_93',\n",
       " 'D_94',\n",
       " 'R_24',\n",
       " 'R_25',\n",
       " 'D_96',\n",
       " 'S_22',\n",
       " 'S_23',\n",
       " 'S_24',\n",
       " 'S_25',\n",
       " 'S_26',\n",
       " 'D_102',\n",
       " 'D_103',\n",
       " 'D_104',\n",
       " 'D_105',\n",
       " 'D_106',\n",
       " 'D_107',\n",
       " 'B_36',\n",
       " 'B_37',\n",
       " 'R_26',\n",
       " 'R_27',\n",
       " 'B_38',\n",
       " 'D_108',\n",
       " 'D_109',\n",
       " 'D_110',\n",
       " 'D_111',\n",
       " 'B_39',\n",
       " 'D_112',\n",
       " 'B_40',\n",
       " 'S_27',\n",
       " 'D_113',\n",
       " 'D_114',\n",
       " 'D_115',\n",
       " 'D_116',\n",
       " 'D_117',\n",
       " 'D_118',\n",
       " 'D_119',\n",
       " 'D_120',\n",
       " 'D_121',\n",
       " 'D_122',\n",
       " 'D_123',\n",
       " 'D_124',\n",
       " 'D_125',\n",
       " 'D_126',\n",
       " 'D_127',\n",
       " 'D_128',\n",
       " 'D_129',\n",
       " 'B_41',\n",
       " 'B_42',\n",
       " 'D_130',\n",
       " 'D_131',\n",
       " 'D_132',\n",
       " 'D_133',\n",
       " 'R_28',\n",
       " 'D_134',\n",
       " 'D_135',\n",
       " 'D_136',\n",
       " 'D_137',\n",
       " 'D_138',\n",
       " 'D_139',\n",
       " 'D_140',\n",
       " 'D_141',\n",
       " 'D_142',\n",
       " 'D_143',\n",
       " 'D_144',\n",
       " 'D_145']"
      ]
     },
     "execution_count": 28,
     "metadata": {},
     "output_type": "execute_result"
    }
   ],
   "source": [
    "data.columns"
   ]
  },
  {
   "cell_type": "code",
   "execution_count": 29,
   "id": "d38cf083",
   "metadata": {},
   "outputs": [
    {
     "data": {
      "text/plain": [
       "['customer_ID', 'target']"
      ]
     },
     "execution_count": 29,
     "metadata": {},
     "output_type": "execute_result"
    }
   ],
   "source": [
    "data_label.columns"
   ]
  },
  {
   "cell_type": "code",
   "execution_count": 30,
   "id": "8a631197",
   "metadata": {},
   "outputs": [
    {
     "name": "stdout",
     "output_type": "stream",
     "text": [
      "+--------------------+----+----+-----+-----+-----+-----+-----+----+----+----+----+\n",
      "|         customer_ID|B_30|B_38|D_114|D_116|D_117|D_120|D_126|D_63|D_64|D_66|D_68|\n",
      "+--------------------+----+----+-----+-----+-----+-----+-----+----+----+----+----+\n",
      "|0000099d6bd597052...| 0.0| 2.0|  1.0|  0.0|  4.0|  0.0|  1.0|  CR|   O|NULL| 6.0|\n",
      "|0000099d6bd597052...| 0.0| 2.0|  1.0|  0.0|  4.0|  0.0|  1.0|  CR|   O|NULL| 6.0|\n",
      "|0000099d6bd597052...| 0.0| 2.0|  1.0|  0.0|  4.0|  0.0|  1.0|  CR|   O|NULL| 6.0|\n",
      "|0000099d6bd597052...| 0.0| 2.0|  1.0|  0.0|  4.0|  0.0|  1.0|  CR|   O|NULL| 6.0|\n",
      "|0000099d6bd597052...| 0.0| 2.0|  1.0|  0.0|  4.0|  0.0|  1.0|  CR|   O|NULL| 6.0|\n",
      "|0000099d6bd597052...| 0.0| 2.0|  1.0|  0.0|  4.0|  0.0|  1.0|  CR|   O|NULL| 6.0|\n",
      "|0000099d6bd597052...| 0.0| 2.0|  1.0|  0.0|  4.0|  0.0|  1.0|  CR|   O|NULL| 6.0|\n",
      "|0000099d6bd597052...| 0.0| 2.0|  1.0|  0.0|  4.0|  0.0|  1.0|  CR|   O|NULL| 6.0|\n",
      "|0000099d6bd597052...| 0.0| 2.0|  1.0|  0.0|  4.0|  0.0|  1.0|  CR|   O|NULL| 6.0|\n",
      "|0000099d6bd597052...| 0.0| 2.0|  1.0|  0.0|  4.0|  0.0|  1.0|  CR|   O|NULL| 6.0|\n",
      "|0000099d6bd597052...| 0.0| 2.0|  1.0|  0.0|  4.0|  0.0|  1.0|  CR|   O|NULL| 6.0|\n",
      "|0000099d6bd597052...| 0.0| 2.0|  1.0|  0.0|  4.0|  0.0|  1.0|  CR|   O|NULL| 6.0|\n",
      "|0000099d6bd597052...| 0.0| 2.0|  1.0|  0.0|  4.0|  0.0|  1.0|  CR|   O|NULL| 6.0|\n",
      "|00000fd6641609c6e...| 0.0| 2.0|  1.0|  0.0| -1.0|  0.0|  1.0|  CO|   O|NULL| 6.0|\n",
      "|00000fd6641609c6e...| 0.0| 2.0|  1.0|  0.0| -1.0|  1.0|  1.0|  CO|   O|NULL| 6.0|\n",
      "|00000fd6641609c6e...| 0.0| 2.0|  1.0|  0.0| -1.0|  1.0|  1.0|  CO|   O|NULL| 6.0|\n",
      "|00000fd6641609c6e...| 0.0| 2.0|  1.0|  0.0| -1.0|  0.0|  1.0|  CO|   O|NULL| 6.0|\n",
      "|00000fd6641609c6e...| 0.0| 2.0|  1.0|  0.0| -1.0|  0.0|  1.0|  CO|   O|NULL| 6.0|\n",
      "|00000fd6641609c6e...| 0.0| 2.0|  1.0|  0.0| -1.0|  0.0|  1.0|  CO|   O|NULL| 6.0|\n",
      "|00000fd6641609c6e...| 0.0| 2.0|  1.0|  0.0| -1.0|  0.0|  1.0|  CO|   O|NULL| 6.0|\n",
      "+--------------------+----+----+-----+-----+-----+-----+-----+----+----+----+----+\n",
      "only showing top 20 rows\n",
      "\n"
     ]
    }
   ],
   "source": [
    "data.select('customer_ID', 'B_30', 'B_38', 'D_114', 'D_116', 'D_117', 'D_120', 'D_126', 'D_63', 'D_64', 'D_66', 'D_68').show()"
   ]
  },
  {
   "cell_type": "code",
   "execution_count": 31,
   "id": "ff7d5da6",
   "metadata": {},
   "outputs": [
    {
     "name": "stdout",
     "output_type": "stream",
     "text": [
      "+--------------------+------+\n",
      "|         customer_ID|target|\n",
      "+--------------------+------+\n",
      "|0000099d6bd597052...|     0|\n",
      "|00000fd6641609c6e...|     0|\n",
      "|00001b22f846c82c5...|     0|\n",
      "|000041bdba6ecadd8...|     0|\n",
      "|00007889e4fcd2614...|     0|\n",
      "|000084e5023181993...|     0|\n",
      "|000098081fde4fd64...|     0|\n",
      "|0000d17a1447b25a0...|     0|\n",
      "|0000f99513770170a...|     1|\n",
      "|00013181a0c5fc8f1...|     1|\n",
      "|0001337ded4e1c253...|     1|\n",
      "|00013c6e1cec7c21b...|     1|\n",
      "|0001812036f155833...|     1|\n",
      "|00018dd4932409baf...|     0|\n",
      "|000198b3dc70edd65...|     0|\n",
      "|000201146e53cacdd...|     0|\n",
      "|0002d381bdd8048d7...|     0|\n",
      "|0002e335892f7998f...|     1|\n",
      "|00031e8be98bc3411...|     0|\n",
      "|000333075fb8ec6d5...|     1|\n",
      "+--------------------+------+\n",
      "only showing top 20 rows\n",
      "\n"
     ]
    }
   ],
   "source": [
    "data_label.show()"
   ]
  },
  {
   "cell_type": "code",
   "execution_count": 41,
   "id": "79931928",
   "metadata": {},
   "outputs": [],
   "source": [
    "data_full = data.join(data_label, 'customer_ID', 'inner')"
   ]
  },
  {
   "cell_type": "code",
   "execution_count": 42,
   "id": "5cc8e907",
   "metadata": {},
   "outputs": [
    {
     "data": {
      "text/plain": [
       "5531451"
      ]
     },
     "execution_count": 42,
     "metadata": {},
     "output_type": "execute_result"
    }
   ],
   "source": [
    "data_full.count()"
   ]
  },
  {
   "cell_type": "markdown",
   "id": "49f7c969",
   "metadata": {},
   "source": [
    "El DF crece demasiado, no debería de pasar, ya que el train_data solo tiene, 458913 registros y el train_label igual, por lo tanto, toca cambiar el enfoque para agrupar los dos df para garantizar su integridad."
   ]
  },
  {
   "cell_type": "code",
   "execution_count": 43,
   "id": "87b041db",
   "metadata": {},
   "outputs": [],
   "source": [
    "data_muestra = data.sample(False, 6000 / data.count())"
   ]
  },
  {
   "cell_type": "code",
   "execution_count": 46,
   "id": "cf49d4b2",
   "metadata": {},
   "outputs": [
    {
     "data": {
      "text/plain": [
       "6041"
      ]
     },
     "execution_count": 46,
     "metadata": {},
     "output_type": "execute_result"
    }
   ],
   "source": [
    "data_muestra.count()"
   ]
  },
  {
   "cell_type": "code",
   "execution_count": 47,
   "id": "a7be029f",
   "metadata": {},
   "outputs": [],
   "source": [
    "data_muestra.toPandas().to_excel('muestra.xlsx', index=False)"
   ]
  },
  {
   "cell_type": "code",
   "execution_count": null,
   "id": "f44d0b27",
   "metadata": {},
   "outputs": [],
   "source": [
    "Guardamos el conjunto de datos en un excel para poder trabajar con el más fácil y poder hacer la unión con los label"
   ]
  }
 ],
 "metadata": {
  "kernelspec": {
   "display_name": "Python 3 (ipykernel)",
   "language": "python",
   "name": "python3"
  },
  "language_info": {
   "codemirror_mode": {
    "name": "ipython",
    "version": 3
   },
   "file_extension": ".py",
   "mimetype": "text/x-python",
   "name": "python",
   "nbconvert_exporter": "python",
   "pygments_lexer": "ipython3",
   "version": "3.9.12"
  }
 },
 "nbformat": 4,
 "nbformat_minor": 5
}
